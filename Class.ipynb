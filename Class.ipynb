{
 "cells": [
  {
   "cell_type": "code",
   "execution_count": 4,
   "metadata": {},
   "outputs": [
    {
     "name": "stdout",
     "output_type": "stream",
     "text": [
      "adding 11\n",
      "substracting 2\n"
     ]
    }
   ],
   "source": [
    "# Class is a group of functions\n",
    "\n",
    "class Calculator:\n",
    "    def adding(x,y):\n",
    "        adding = x + y\n",
    "        print('adding',adding)\n",
    "    def substracting(x,y):\n",
    "        substracting = x - y\n",
    "        print('substracting',substracting)\n",
    "        \n",
    "Calculator.adding(5,6)\n",
    "Calculator.substracting(10,8)"
   ]
  },
  {
   "cell_type": "code",
   "execution_count": null,
   "metadata": {},
   "outputs": [],
   "source": []
  }
 ],
 "metadata": {
  "kernelspec": {
   "display_name": "Python 3",
   "language": "python",
   "name": "python3"
  },
  "language_info": {
   "codemirror_mode": {
    "name": "ipython",
    "version": 3
   },
   "file_extension": ".py",
   "mimetype": "text/x-python",
   "name": "python",
   "nbconvert_exporter": "python",
   "pygments_lexer": "ipython3",
   "version": "3.6.5"
  }
 },
 "nbformat": 4,
 "nbformat_minor": 2
}
