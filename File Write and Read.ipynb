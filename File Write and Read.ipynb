{
 "cells": [
  {
   "cell_type": "code",
   "execution_count": null,
   "metadata": {},
   "outputs": [],
   "source": [
    "#Writing into a file"
   ]
  },
  {
   "cell_type": "code",
   "execution_count": 1,
   "metadata": {},
   "outputs": [
    {
     "name": "stdout",
     "output_type": "stream",
     "text": [
      "Data written...\n"
     ]
    }
   ],
   "source": [
    "Text = 'Hello there this is a sample text'\n",
    "saveFile = open('SampleFile.txt','w')\n",
    "saveFile.write(Text)\n",
    "saveFile.close()\n",
    "print('Data written...')"
   ]
  },
  {
   "cell_type": "code",
   "execution_count": 3,
   "metadata": {},
   "outputs": [
    {
     "name": "stdout",
     "output_type": "stream",
     "text": [
      "Data Appended...\n"
     ]
    }
   ],
   "source": [
    "#Appending data into a file\n",
    "\n",
    "AppendText = '\\nthis is an appending text'\n",
    "saveFile = open('SampleFile.txt','a')\n",
    "saveFile.write(AppendText)\n",
    "saveFile.close()\n",
    "print('Data Appended...')"
   ]
  },
  {
   "cell_type": "code",
   "execution_count": 5,
   "metadata": {},
   "outputs": [
    {
     "name": "stdout",
     "output_type": "stream",
     "text": [
      "Hello there this is a sample text\n",
      "this is an appending text\n",
      "this is an appending text\n"
     ]
    }
   ],
   "source": [
    "#Reading a file\n",
    "\n",
    "saveFile = open('SampleFile.txt','r')\n",
    "FileData = saveFile.read()\n",
    "print(FileData)\n",
    "saveFile.close()"
   ]
  },
  {
   "cell_type": "code",
   "execution_count": 7,
   "metadata": {},
   "outputs": [
    {
     "name": "stdout",
     "output_type": "stream",
     "text": [
      "Hello there this is a sample text\n",
      "this is an appending text\n",
      "this is an appending text\n"
     ]
    }
   ],
   "source": [
    "#revalidating the read code\n",
    "\n",
    "FileData = open('SampleFile.txt','r').read()\n",
    "print(FileData)\n",
    "#close()"
   ]
  },
  {
   "cell_type": "code",
   "execution_count": 8,
   "metadata": {},
   "outputs": [
    {
     "name": "stdout",
     "output_type": "stream",
     "text": [
      "['Hello there this is a sample text\\n', 'this is an appending text\\n', 'this is an appending text']\n"
     ]
    }
   ],
   "source": [
    "#Lines displayed in the list format\n",
    "\n",
    "FileData = open('SampleFile.txt','r').readlines()\n",
    "print(FileData)\n",
    "#close()"
   ]
  },
  {
   "cell_type": "code",
   "execution_count": null,
   "metadata": {},
   "outputs": [],
   "source": []
  }
 ],
 "metadata": {
  "kernelspec": {
   "display_name": "Python 3",
   "language": "python",
   "name": "python3"
  },
  "language_info": {
   "codemirror_mode": {
    "name": "ipython",
    "version": 3
   },
   "file_extension": ".py",
   "mimetype": "text/x-python",
   "name": "python",
   "nbconvert_exporter": "python",
   "pygments_lexer": "ipython3",
   "version": "3.6.5"
  }
 },
 "nbformat": 4,
 "nbformat_minor": 2
}
