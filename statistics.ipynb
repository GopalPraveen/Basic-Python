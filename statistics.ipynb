{
 "cells": [
  {
   "cell_type": "code",
   "execution_count": 1,
   "metadata": {},
   "outputs": [
    {
     "name": "stdout",
     "output_type": "stream",
     "text": [
      "4.230769230769231\n",
      "5\n",
      "5\n",
      "1.9644272343292228\n",
      "3.858974358974359\n"
     ]
    }
   ],
   "source": [
    "import statistics\n",
    "\n",
    "example_list = [5,2,5,6,1,2,6,7,2,6,3,5,5]\n",
    "\n",
    "x = statistics.mean(example_list)\n",
    "print(x)\n",
    "\n",
    "y = statistics.median(example_list)\n",
    "print(y)\n",
    "\n",
    "z = statistics.mode(example_list)\n",
    "print(z)\n",
    "\n",
    "a = statistics.stdev(example_list)\n",
    "print(a)\n",
    "\n",
    "b = statistics.variance(example_list)\n",
    "print(b)"
   ]
  },
  {
   "cell_type": "code",
   "execution_count": null,
   "metadata": {},
   "outputs": [],
   "source": []
  }
 ],
 "metadata": {
  "kernelspec": {
   "display_name": "Python 3",
   "language": "python",
   "name": "python3"
  },
  "language_info": {
   "codemirror_mode": {
    "name": "ipython",
    "version": 3
   },
   "file_extension": ".py",
   "mimetype": "text/x-python",
   "name": "python",
   "nbconvert_exporter": "python",
   "pygments_lexer": "ipython3",
   "version": "3.6.5"
  }
 },
 "nbformat": 4,
 "nbformat_minor": 2
}
