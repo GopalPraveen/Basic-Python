{
 "cells": [
  {
   "cell_type": "code",
   "execution_count": 4,
   "metadata": {},
   "outputs": [
    {
     "name": "stdout",
     "output_type": "stream",
     "text": [
      "4.5\n"
     ]
    }
   ],
   "source": [
    "import statistics\n",
    "\n",
    "example_list=[1,2,3,4,5,6,7,8,9,0]\n",
    "\n",
    "x = statistics.mean(example_list)\n",
    "print(x)"
   ]
  },
  {
   "cell_type": "code",
   "execution_count": 5,
   "metadata": {},
   "outputs": [
    {
     "name": "stdout",
     "output_type": "stream",
     "text": [
      "4.5\n"
     ]
    }
   ],
   "source": [
    "import statistics as s\n",
    "\n",
    "example_list=[1,2,3,4,5,6,7,8,9,0]\n",
    "\n",
    "x = s.mean(example_list)\n",
    "print(x)"
   ]
  },
  {
   "cell_type": "code",
   "execution_count": 6,
   "metadata": {},
   "outputs": [
    {
     "name": "stdout",
     "output_type": "stream",
     "text": [
      "4.5\n"
     ]
    }
   ],
   "source": [
    "from statistics import mean\n",
    "\n",
    "example_list=[1,2,3,4,5,6,7,8,9,0]\n",
    "\n",
    "x = mean(example_list)\n",
    "print(x)"
   ]
  },
  {
   "cell_type": "code",
   "execution_count": 7,
   "metadata": {},
   "outputs": [
    {
     "name": "stdout",
     "output_type": "stream",
     "text": [
      "4.5\n",
      "9.166666666666666\n"
     ]
    }
   ],
   "source": [
    "from statistics import mean,variance\n",
    "\n",
    "example_list=[1,2,3,4,5,6,7,8,9,0]\n",
    "\n",
    "x = mean(example_list)\n",
    "y = variance(example_list)\n",
    "print(x)\n",
    "print(y)"
   ]
  },
  {
   "cell_type": "code",
   "execution_count": 8,
   "metadata": {},
   "outputs": [
    {
     "name": "stdout",
     "output_type": "stream",
     "text": [
      "4.5\n",
      "9.166666666666666\n"
     ]
    }
   ],
   "source": [
    "from statistics import mean as m,variance as v\n",
    "\n",
    "example_list=[1,2,3,4,5,6,7,8,9,0]\n",
    "\n",
    "x = m(example_list)\n",
    "y = v(example_list)\n",
    "print(x)\n",
    "print(y)"
   ]
  },
  {
   "cell_type": "code",
   "execution_count": 9,
   "metadata": {},
   "outputs": [
    {
     "name": "stdout",
     "output_type": "stream",
     "text": [
      "4.5\n",
      "9.166666666666666\n"
     ]
    }
   ],
   "source": [
    "from statistics import *\n",
    "\n",
    "example_list=[1,2,3,4,5,6,7,8,9,0]\n",
    "\n",
    "x = mean(example_list)\n",
    "y = variance(example_list)\n",
    "print(x)\n",
    "print(y)"
   ]
  },
  {
   "cell_type": "code",
   "execution_count": null,
   "metadata": {},
   "outputs": [],
   "source": []
  }
 ],
 "metadata": {
  "kernelspec": {
   "display_name": "Python 3",
   "language": "python",
   "name": "python3"
  },
  "language_info": {
   "codemirror_mode": {
    "name": "ipython",
    "version": 3
   },
   "file_extension": ".py",
   "mimetype": "text/x-python",
   "name": "python",
   "nbconvert_exporter": "python",
   "pygments_lexer": "ipython3",
   "version": "3.6.5"
  }
 },
 "nbformat": 4,
 "nbformat_minor": 2
}
